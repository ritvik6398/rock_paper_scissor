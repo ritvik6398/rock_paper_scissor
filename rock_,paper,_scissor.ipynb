{
  "nbformat": 4,
  "nbformat_minor": 0,
  "metadata": {
    "colab": {
      "provenance": []
    },
    "kernelspec": {
      "name": "python3",
      "display_name": "Python 3"
    },
    "language_info": {
      "name": "python"
    }
  },
  "cells": [
    {
      "cell_type": "code",
      "execution_count": null,
      "metadata": {
        "id": "QwI6XeBwRIy6"
      },
      "outputs": [],
      "source": [
        "print(\"rock paper scissor game \")\n",
        "print(\"lets play the game\")\n",
        "import random\n",
        "list=[\"rock\",\"paper\",\"scissor\"]\n",
        "computer=list[random.randint(0,2)]\n",
        "\n",
        "player=False\n",
        "\n",
        "while player==False:\n",
        "  player=input(\"enter rock ,paper,scissor\\n\")\n",
        "  print('You Entered', player,'and computer chose ',computer)\n",
        "  if player==computer:\n",
        "    print(\"tie\")\n",
        "  elif player==\"rock\":\n",
        "    if computer ==\"paper\":\n",
        "      print(\"computer win u loose\")\n",
        "    else:\n",
        "      print(\"computer loose u win\")\n",
        "  elif player == \"paper\":\n",
        "    if computer==\"scissor\":\n",
        "      print(\"computer win u loose\")\n",
        "    else:\n",
        "      print(\"computer loose u win\")\n",
        "  elif player==\"scissor\":\n",
        "    if computer==\"rock\":\n",
        "      print(\"computer win u loose\")\n",
        "    else :\n",
        "      print(\"computer loose u win\")\n",
        "  else:\n",
        "    print(\"enter coorect name\")\n"
      ]
    },
    {
      "cell_type": "code",
      "source": [],
      "metadata": {
        "id": "tkKtTgNWVhLb"
      },
      "execution_count": null,
      "outputs": []
    }
  ]
}